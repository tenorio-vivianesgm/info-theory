{
  "nbformat": 4,
  "nbformat_minor": 0,
  "metadata": {
    "colab": {
      "name": "Aplicacao_Kontoyiannis .ipynb",
      "provenance": [],
      "toc_visible": true,
      "authorship_tag": "ABX9TyOOnhmJ5ntjqEluyur4EKJu",
      "include_colab_link": true
    },
    "kernelspec": {
      "name": "python3",
      "display_name": "Python 3"
    }
  },
  "cells": [
    {
      "cell_type": "markdown",
      "metadata": {
        "id": "view-in-github",
        "colab_type": "text"
      },
      "source": [
        "<a href=\"https://colab.research.google.com/github/tenorio-vivianesgm/info-theory/blob/master/Aplicacao_Kontoyiannis_.ipynb\" target=\"_parent\"><img src=\"https://colab.research.google.com/assets/colab-badge.svg\" alt=\"Open In Colab\"/></a>"
      ]
    },
    {
      "cell_type": "markdown",
      "metadata": {
        "id": "hiNbvJvz_T6x",
        "colab_type": "text"
      },
      "source": [
        "# Estimating the Directed Information and Testing for Causality\n",
        "*( I. Kontoyiannis and Maria Skoularidou)*\n",
        "\n",
        "\n",
        "---\n",
        "\n",
        "\n",
        "\n"
      ]
    },
    {
      "cell_type": "markdown",
      "metadata": {
        "id": "2Rmt9TKu_hoG",
        "colab_type": "text"
      },
      "source": [
        "# Introdução\n",
        "---\n",
        "O problema de estimar a taxa de informações direcionadas entre dois processos distintos **{Xn}** e **{Yn}** por meio do estimador de plug-in (ou probabilidade máxima) é considerado. Quando o processo conjunto **{(Xn, Yn)}** é uma cadeia de Markov com um determinado comprimento de memória, o estimador de plug-in mostra-se assintoticamente gaussiano e converge na taxa ideal $O(1/\\sqrt n)$ sob condições apropriadas; este é o primeiro estimador que foi mostrado para atingir essa taxa. Uma conexão importante é estabelecida entre o problema de estimar a taxa de informação direcionada e o de executar um teste de hipótese para a presença de influência causal entre os dois processos. Sob condições razoavelmente gerais, a hipótese nula, que corresponde à ausência de influência causal, é equivalente ao requisito de que a taxa de informações direcionadas seja igual a zero. Nesse caso, é estabelecido um resultado mais fino, mostrando que o plug-in converge na taxa mais rápida $O(1/n)$ e que é distribuído assintoticamente em $\\chi^2$. Isso é comprovado mostrando que esse estimador é igual a (um múltiplo escalar) da estatística clássica da razão de verossimilhança para o teste de hipótese acima. Finalmente, note-se que esses resultados facilitam o desenho de um teste de razão de verossimilhança real para a presença ou ausência de influência causal."
      ]
    },
    {
      "cell_type": "code",
      "metadata": {
        "id": "CgtWeGkEOcHI",
        "colab_type": "code",
        "cellView": "both",
        "colab": {
          "base_uri": "https://localhost:8080/",
          "height": 35
        },
        "outputId": "d65257eb-3c61-4fc7-fcd3-45a98cbb5e4b"
      },
      "source": [
        "#@title Cálculo da Informação Direcional Analítica\n",
        "import math\n",
        "import numpy as np\n",
        "\n",
        "theta1 = 0.1\n",
        "theta10 = 0.3\n",
        "theta00 = 0.5\n",
        "D = 2\n",
        "p = 0.1\n",
        "\n",
        "pcond = np.zeros((12,1))\n",
        "pconj = np.zeros((6,1))\n",
        "pi1=theta00/(theta00+(1-theta1)*theta00+(1-theta1)*(1-theta10))\n",
        "pi10=pi1*(1-theta1)\n",
        "pi00=pi1*(1-theta1)*(1-theta10)/theta00\n",
        "\n",
        "pcond[0]=(1-p)*(1-theta00)/((1-p)*(1-theta00)+p*theta00)\n",
        "pcond[1]=(1-p)*(1-theta10)/((1-p)*(1-theta10)+p*theta10)\n",
        "pcond[2]=(1-p)*(1-theta1)/((1-p)*(1-theta1)+p*theta1)\n",
        "pcond[3]=(p)*(1-theta00)/((p)*(1-theta00)+(1-p)*theta00)\n",
        "pcond[4]=(p)*(1-theta10)/((p)*(1-theta10)+(1-p)*theta10)\n",
        "pcond[5]=(p)*(1-theta1)/((p)*(1-theta1)+(1-p)*theta1)\n",
        "pcond[6]=(p)*(theta00)/((p*theta00)+(1-p)*(1-theta00))\n",
        "pcond[7]=(p)*(theta10)/((p*theta10)+(1-p)*(1-theta10))\n",
        "pcond[8]=(p)*(theta1)/((p*theta1)+(1-p)*(1-theta1))\n",
        "pcond[9]=(1-p)*(theta00)/((1-p)*(theta00)+p*(1-theta00))\n",
        "pcond[10]=(1-p)*(theta10)/((1-p)*(theta10)+p*(1-theta10))\n",
        "pcond[11]=(1-p)*(theta1)/((1-p)*(theta1)+p*(1-theta1))\n",
        "\n",
        "#print('pcond = ', pcond)\n",
        "\n",
        "pconj[0]=(1-theta00)*pi00*(1-p)+theta00*pi00*p\n",
        "pconj[1]=(1-theta10)*pi10*(1-p)+theta10*pi10*p\n",
        "pconj[2]=(1-theta1)*pi1*(1-p)+theta1*pi1*p\n",
        "pconj[3]=(1-theta00)*pi00*p+theta00*pi00*(1-p)\n",
        "pconj[4]=(1-theta10)*pi10*p+theta10*pi10*(1-p)\n",
        "pconj[5]=(1-theta1)*pi1*p+theta1*pi1*(1-p)\n",
        "\n",
        "#print('pconj = ', pconj)\n",
        "\n",
        "h_causal_cond = -(pconj[0]*(pcond[0]*math.log2(pcond[0]) + pcond[6]*math.log2(pcond[6]))) - (pconj[1]*(pcond[1]*math.log2(pcond[1]) + pcond[7]*math.log2(pcond[7])))- (pconj[2]*(pcond[2]*math.log2(pcond[2]) + pcond[8]*math.log2(pcond[8])))- (pconj[3]*(pcond[3]*math.log2(pcond[3]) + pcond[9]*math.log2(pcond[9]))) - (pconj[4]*(pcond[4]*math.log2(pcond[4]) + pcond[10]*math.log2(pcond[10]))) - (pconj[5]*(pcond[5]*math.log2(pcond[5]) + pcond[11]*math.log2(pcond[11])))\n",
        "\n",
        "#print('h_cond_causal', h_causal_cond)\n",
        "\n",
        "h_X=-pi00*(theta00*math.log2(theta00)+(1-theta00)*math.log2(1-theta00))-pi10*(theta10*math.log2(theta10)+(1-theta10)*math.log2(1-theta10))-pi1*(theta1*math.log2(theta1)+(1-theta1)*math.log2(1-theta1))\n",
        "\n",
        "#print('h_X = ', h_X)\n",
        "\n",
        "di_analytical=h_X-h_causal_cond\n",
        "\n",
        "print('di_analytical = ',di_analytical)"
      ],
      "execution_count": null,
      "outputs": [
        {
          "output_type": "stream",
          "text": [
            "di_analytical =  [0.40835057]\n"
          ],
          "name": "stdout"
        }
      ]
    },
    {
      "cell_type": "code",
      "metadata": {
        "id": "_TPXZ3SN9GZN",
        "colab_type": "code",
        "cellView": "form",
        "colab": {}
      },
      "source": [
        "#@title Função de calculo da Entropia Conjunta\n",
        "def JointEntropy_byVivi(a):\n",
        "  import pandas as pd\n",
        "  import itertools\n",
        "  from scipy.stats import chi2_contingency\n",
        "  from scipy.stats import chi2\n",
        "  \n",
        "  dim = a.shape\n",
        "\n",
        "  m = np.size(a,1)\n",
        "     \n",
        "  idx = ['c{}'.format(i) for i in range(1, len(a)+1)]\n",
        "\n",
        "  if m == 3:\n",
        "    y = a[:,0]    \n",
        "    y_k = a[:,1]    \n",
        "    y_k2 = a[:,2]    \n",
        "    df1 = pd.DataFrame({'y':y,'y_k':y_k, 'y_k2':y_k2},index=idx,)\n",
        "    mytable = df1.groupby(['y','y_k', 'y_k2']).size().reset_index().rename(columns={0:'count'})\n",
        "    Alphabet = df1.groupby(['y','y_k', 'y_k2']).sum()\n",
        "  elif m == 4:\n",
        "      y_k = a[:,0]\n",
        "      y_k2 = a[:,1]\n",
        "      x_k = a[:,2]\n",
        "      x_k2 = a[:,3]\n",
        "      df1 = pd.DataFrame({'y_k':y_k,'y_k2':y_k2, 'x_k':x_k, 'x_k2':x_k2},index=idx,)\n",
        "      mytable = df1.groupby(['y_k','y_k2', 'x_k', 'x_k2']).size().reset_index().rename(columns={0:'count'})\n",
        "      Alphabet = df1.groupby(['y_k','y_k2', 'x_k', 'x_k2']).sum()\n",
        "  elif m == 5:\n",
        "    y = a[:,0]\n",
        "    y_k = a[:,1]\n",
        "    y_k2 = a[:,2]\n",
        "    x_k = a[:,3]\n",
        "    x_k2 = a[:,4]\n",
        "    df1 = pd.DataFrame({'y':y,'y_k':y_k, 'y_k2':y_k2, 'x_k':x_k, 'x_k2':x_k2},index=idx,)\n",
        "    mytable = df1.groupby(['y','y_k', 'y_k2', 'x_k', 'x_k2']).size().reset_index().rename(columns={0:'count'})\n",
        "    Alphabet = df1.groupby(['y','y_k', 'y_k2', 'x_k', 'x_k2']).sum()\n",
        "  else: 0\n",
        "\n",
        "  P = np.zeros((len(Alphabet),1))\n",
        "  for column in mytable[['count']]:\n",
        "    P = mytable[column]\n",
        "    Freq = P.values\n",
        "\n",
        "  Prob = Freq / Freq.sum()\n",
        "\n",
        "  for i in range(0, len(Prob)):\n",
        "    aux_P = Prob[i]\n",
        "    aux = aux_P * math.log2(aux_P)\n",
        "    aux = np.vstack([aux])\n",
        "  H_conjunta = -aux.sum()\n",
        "\n",
        "  return H_conjunta"
      ],
      "execution_count": null,
      "outputs": []
    },
    {
      "cell_type": "markdown",
      "metadata": {
        "id": "KXRcv7phk-Tt",
        "colab_type": "text"
      },
      "source": [
        "# Cálculo da Informação direcional - Desenvolvimento matemático\n",
        "\\begin{equation}\n",
        "DI_n= I_n( X \\rightarrow Y) = \\frac{1}{n}\\sum_{i=1}^n[H(Y_i|Y^{i-1})-H(Y_i|Y^{i-1},X^i)]\n",
        "=\\dfrac{1}{n}\\sum_{i=1}^n[H(Y_i|Y_{i-k}^{i-1})-H(Y_i|Y_{i-k}^{i-1},X_{i-k}^{i})]\n",
        "\\end{equation}\n",
        "\n",
        "1o termo:\n",
        "\\begin{equation}\n",
        "H(Y_i|Y_{i-k}^{i-1})= \n",
        "H(A|B)=H(A,B)-H(B)\n",
        "\\end{equation}\n",
        "2o termo:\n",
        "\\begin{equation}\n",
        "H(Y_i|Y_{i-k}^{i-1},X_{i-k}^{i}) = \n",
        "H(A|C)=H(A,C)-H(C)\n",
        "\\end{equation}\n",
        "\n",
        "em que $A = Y_i$, $B = Y_{i-k}^{i-1}$ $C = Y_{i-k}^{i-1},X_{i-k}^{i}$"
      ]
    },
    {
      "cell_type": "code",
      "metadata": {
        "id": "5pfoITiBdSdj",
        "colab_type": "code",
        "cellView": "form",
        "colab": {
          "base_uri": "https://localhost:8080/",
          "height": 348
        },
        "outputId": "757aec91-9bf8-49d7-afce-32d06f3711ae"
      },
      "source": [
        "#@title Check pyitlib\n",
        "!pip install pyitlib"
      ],
      "execution_count": null,
      "outputs": [
        {
          "output_type": "stream",
          "text": [
            "Collecting pyitlib\n",
            "  Downloading https://files.pythonhosted.org/packages/22/52/f79a6fc5c7d22cb67bdedfe3c791015021aea2d1d0307bf1ac81f3a10188/pyitlib-0.2.2.tar.gz\n",
            "Requirement already satisfied: pandas>=0.20.2numpy>=1.9.2 in /usr/local/lib/python3.6/dist-packages (from pyitlib) (1.0.5)\n",
            "Requirement already satisfied: scikit-learn>=0.16.0 in /usr/local/lib/python3.6/dist-packages (from pyitlib) (0.22.2.post1)\n",
            "Requirement already satisfied: scipy>=1.0.1 in /usr/local/lib/python3.6/dist-packages (from pyitlib) (1.4.1)\n",
            "Requirement already satisfied: future>=0.16.0 in /usr/local/lib/python3.6/dist-packages (from pyitlib) (0.16.0)\n",
            "Requirement already satisfied: python-dateutil>=2.6.1 in /usr/local/lib/python3.6/dist-packages (from pandas>=0.20.2numpy>=1.9.2->pyitlib) (2.8.1)\n",
            "Requirement already satisfied: pytz>=2017.2 in /usr/local/lib/python3.6/dist-packages (from pandas>=0.20.2numpy>=1.9.2->pyitlib) (2018.9)\n",
            "Requirement already satisfied: numpy>=1.13.3 in /usr/local/lib/python3.6/dist-packages (from pandas>=0.20.2numpy>=1.9.2->pyitlib) (1.18.5)\n",
            "Requirement already satisfied: joblib>=0.11 in /usr/local/lib/python3.6/dist-packages (from scikit-learn>=0.16.0->pyitlib) (0.16.0)\n",
            "Requirement already satisfied: six>=1.5 in /usr/local/lib/python3.6/dist-packages (from python-dateutil>=2.6.1->pandas>=0.20.2numpy>=1.9.2->pyitlib) (1.15.0)\n",
            "Building wheels for collected packages: pyitlib\n",
            "  Building wheel for pyitlib (setup.py) ... \u001b[?25l\u001b[?25hdone\n",
            "  Created wheel for pyitlib: filename=pyitlib-0.2.2-cp36-none-any.whl size=28502 sha256=aa8bc8fea887a9c6f9c03eb83492a55f25d69437be41ca3f2a73229d0edf9db9\n",
            "  Stored in directory: /root/.cache/pip/wheels/1c/f8/41/f4b4e777dd6ea714f2c4900367fb479e9fca0eb000c46e73f3\n",
            "Successfully built pyitlib\n",
            "Installing collected packages: pyitlib\n",
            "Successfully installed pyitlib-0.2.2\n"
          ],
          "name": "stdout"
        }
      ]
    },
    {
      "cell_type": "code",
      "metadata": {
        "id": "gaOl54Svp1ri",
        "colab_type": "code",
        "cellView": "form",
        "colab": {}
      },
      "source": [
        "#@title Calculo da Informação Direcional\n",
        "# A = Y_{i}, B = Y_{-k}^{-1}, C = X_{-k}^0\n",
        "def calculo_DI(x,y):\n",
        "  from scipy.stats import entropy\n",
        "  from pyitlib import discrete_random_variable as drv\n",
        "\n",
        "  memory = 2\n",
        "\n",
        "  N=len(x)\n",
        "\n",
        "  #Inicialização das matrizes\n",
        "  A=np.zeros((N-memory,1))  \n",
        "  B=np.zeros((N-memory,memory))\n",
        "  C=np.zeros((N-memory,memory))\n",
        "\n",
        "  for i in range(0,N-memory):\n",
        "    A[i] = y[i+memory].T\n",
        "    B[i,:] = y[i:i-1+memory].T\n",
        "    C[i,:] = x[i:i+memory].T\n",
        "\n",
        "    \n",
        "  matrix_AB = np.concatenate((A, B), axis=1)\n",
        "  matrix_ABC = np.concatenate((matrix_AB, C), axis=1)\n",
        "  matrix_BC = np.concatenate((B, C), axis=1)\n",
        "\n",
        "  primeiro_termo = JointEntropy_byVivi(matrix_AB) - drv.entropy(B, base=2)\n",
        "  segundo_termo = JointEntropy_byVivi(matrix_ABC) - JointEntropy_byVivi(matrix_BC)\n",
        "\n",
        "  info_direcional = primeiro_termo - segundo_termo\n",
        "\n",
        "  return info_direcional[0]  \n",
        "   "
      ],
      "execution_count": null,
      "outputs": []
    },
    {
      "cell_type": "code",
      "metadata": {
        "id": "0R-Q3XcxJLtY",
        "colab_type": "code",
        "cellView": "form",
        "colab": {
          "base_uri": "https://localhost:8080/",
          "height": 935
        },
        "outputId": "03d88c2c-b88b-4ad9-b214-ab18d760b531"
      },
      "source": [
        "#@title Realizações\n",
        "\n",
        "idx = range(0,50)\n",
        "size = len(idx)\n",
        "N = 10000\n",
        "di_total = np.zeros((size,1))\n",
        "\n",
        "for trials in idx:\n",
        "  theta1 = 0.1\n",
        "  theta10 = 0.3\n",
        "  theta00 = 0.5\n",
        "  D = 2\n",
        "  p = 0.1\n",
        "  x = np.ones((N,1))\n",
        "  y = np.ones((N,1))\n",
        "\n",
        "  for i in range(2, len(x)):\n",
        "    if x[i-1]==1:\n",
        "      x[i]= np.random.binomial(1,theta1,1)\n",
        "    elif x[i-2]==0:\n",
        "      x[i]=np.random.binomial(1,theta00,1)\n",
        "    else:\n",
        "      x[i]=np.random.binomial(1,theta10,1)               \n",
        "    for j in range(1,N):\n",
        "      if x[j]==0:\n",
        "        y[j] = np.random.random(1) <= p\n",
        "      else:\n",
        "        y[j] = np.random.random(1) <= (1-p)\n",
        "  print('Trial atual = ',trials)  \n",
        "  di_realizacoes = calculo_DI(x,y)\n",
        "  di_total[trials] = di_realizacoes"
      ],
      "execution_count": null,
      "outputs": [
        {
          "output_type": "stream",
          "text": [
            "Trial atual =  0\n",
            "Trial atual =  1\n",
            "Trial atual =  2\n",
            "Trial atual =  3\n",
            "Trial atual =  4\n",
            "Trial atual =  5\n",
            "Trial atual =  6\n",
            "Trial atual =  7\n",
            "Trial atual =  8\n",
            "Trial atual =  9\n",
            "Trial atual =  10\n",
            "Trial atual =  11\n",
            "Trial atual =  12\n",
            "Trial atual =  13\n",
            "Trial atual =  14\n",
            "Trial atual =  15\n",
            "Trial atual =  16\n",
            "Trial atual =  17\n",
            "Trial atual =  18\n",
            "Trial atual =  19\n",
            "Trial atual =  20\n",
            "Trial atual =  21\n",
            "Trial atual =  22\n",
            "Trial atual =  23\n",
            "Trial atual =  24\n",
            "Trial atual =  25\n",
            "Trial atual =  26\n",
            "Trial atual =  27\n",
            "Trial atual =  28\n",
            "Trial atual =  29\n",
            "Trial atual =  30\n",
            "Trial atual =  31\n",
            "Trial atual =  32\n",
            "Trial atual =  33\n",
            "Trial atual =  34\n",
            "Trial atual =  35\n",
            "Trial atual =  36\n",
            "Trial atual =  37\n",
            "Trial atual =  38\n",
            "Trial atual =  39\n",
            "Trial atual =  40\n",
            "Trial atual =  41\n",
            "Trial atual =  42\n",
            "Trial atual =  43\n",
            "Trial atual =  44\n",
            "Trial atual =  45\n",
            "Trial atual =  46\n",
            "Trial atual =  47\n",
            "Trial atual =  48\n",
            "Trial atual =  49\n"
          ],
          "name": "stdout"
        }
      ]
    },
    {
      "cell_type": "code",
      "metadata": {
        "id": "N-EjOfJDBYfV",
        "colab_type": "code",
        "cellView": "both",
        "colab": {
          "base_uri": "https://localhost:8080/",
          "height": 297
        },
        "outputId": "34dae3ef-2382-46af-a82f-fbfd4bc8187a"
      },
      "source": [
        "#@title Histograma\n",
        "import scipy\n",
        "import matplotlib.pyplot as plt \n",
        "import matplotlib.mlab as mlab\n",
        "\n",
        "\n",
        "#plt.hist(di_total, bins=10)\n",
        "\n",
        "#mu, sigma = scipy.stats.norm.fit(di_total)\n",
        "\n",
        "\n",
        "# best fit of data\n",
        "(mu, sigma) = scipy.stats.norm.fit(di_total)\n",
        "\n",
        "# the histogram of the data\n",
        "n, bins, patches = plt.hist(di_total,facecolor='green')\n",
        "\n",
        "# add a 'best fit' line\n",
        "y = scipy.stats.norm.pdf(bins, mu, sigma)\n",
        "l = plt.plot(bins, y/5, 'r--', linewidth=2)\n",
        "\n",
        "#plot\n",
        "plt.xlabel('Informação Direcional')\n",
        "plt.ylabel('# de ocorrências')\n",
        "plt.title(r'$\\mathrm{Histograma\\ da\\ DI_n:}\\ \\mu=%.3f,\\ \\sigma=%.3f$' %(mu, sigma))\n",
        "plt.grid(True)\n",
        "\n",
        "plt.show()\n",
        "\n"
      ],
      "execution_count": null,
      "outputs": [
        {
          "output_type": "display_data",
          "data": {
            "image/png": "[encoded data removed]",
            "text/plain": [
              "<Figure size 432x288 with 1 Axes>"
            ]
          },
          "metadata": {
            "tags": [],
            "needs_background": "light"
          }
        }
      ]
    },
    {
      "cell_type": "code",
      "metadata": {
        "id": "iqQCGgWHBpfb",
        "colab_type": "code",
        "cellView": "form",
        "colab": {
          "base_uri": "https://localhost:8080/",
          "height": 72
        },
        "outputId": "36ac1885-a092-4732-ba1d-17346fab3385"
      },
      "source": [
        "#@title Teste de Hipotese\n",
        "\n",
        "from scipy.stats.distributions import chi2\n",
        "\n",
        "l = 2\n",
        "m = 2\n",
        "k = 2\n",
        "dof = np.power(l,k)*(np.power(m,(k+1))-1)*(l-1)\n",
        "print('Graus de liberdade = ',dof)\n",
        "percentil = chi2.ppf(0.95, df=dof)\n",
        "print('Percentil = ',percentil)\n",
        "estimation = di_total * 2 * N\n",
        "\n",
        "if all(estimation > percentil):\n",
        "  print('Podemos rejeitar a hipótese nula - Há causalidade!')\n",
        "else: \n",
        "  print('Não há causalidade.')\n"
      ],
      "execution_count": null,
      "outputs": [
        {
          "output_type": "stream",
          "text": [
            "Graus de liberdade =  28\n",
            "Percentil =  41.33713815142739\n",
            "Podemos rejeitar a hipótese nula - Há causalidade!\n"
          ],
          "name": "stdout"
        }
      ]
    }
  ]
}